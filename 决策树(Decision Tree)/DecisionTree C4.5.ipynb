{
 "cells": [
  {
   "cell_type": "code",
   "execution_count": 125,
   "metadata": {},
   "outputs": [],
   "source": [
    "from sklearn.feature_extraction import DictVectorizer#转换工具，将list转换成为一个数组\n",
    "from sklearn import preprocessing\n",
    "from sklearn import tree #创建决策树\n",
    "import numpy as np"
   ]
  },
  {
   "cell_type": "code",
   "execution_count": 126,
   "metadata": {},
   "outputs": [],
   "source": [
    "# dataset: https://blog.csdn.net/leafage_m/article/details/79560791\n",
    "\n",
    "    dataSet = [\n",
    "        # 1\n",
    "        ['青绿', '蜷缩', '浊响', '清晰', '凹陷', '硬滑', 0.697, 0.460, '好瓜'],\n",
    "        # 2\n",
    "        ['乌黑', '蜷缩', '沉闷', '清晰', '凹陷', '硬滑', 0.774, 0.376, '好瓜'],\n",
    "        # 3\n",
    "        ['乌黑', '蜷缩', '浊响', '清晰', '凹陷', '硬滑', 0.634, 0.264, '好瓜'],\n",
    "        # 4\n",
    "        ['青绿', '蜷缩', '沉闷', '清晰', '凹陷', '硬滑', 0.608, 0.318, '好瓜'],\n",
    "        # 5\n",
    "        ['浅白', '蜷缩', '浊响', '清晰', '凹陷', '硬滑', 0.556, 0.215, '好瓜'],\n",
    "        # 6\n",
    "        ['青绿', '稍蜷', '浊响', '清晰', '稍凹', '软粘', 0.403, 0.237, '好瓜'],\n",
    "        # 7\n",
    "        ['乌黑', '稍蜷', '浊响', '稍糊', '稍凹', '软粘', 0.481, 0.149, '好瓜'],\n",
    "        # 8\n",
    "        ['乌黑', '稍蜷', '浊响', '清晰', '稍凹', '硬滑', 0.437, 0.211, '好瓜'],\n",
    "\n",
    "        # ----------------------------------------------------\n",
    "        # 9\n",
    "        ['乌黑', '稍蜷', '沉闷', '稍糊', '稍凹', '硬滑', 0.666, 0.091, '坏瓜'],\n",
    "        # 10\n",
    "        ['青绿', '硬挺', '清脆', '清晰', '平坦', '软粘', 0.243, 0.267, '坏瓜'],\n",
    "        # 11\n",
    "        ['浅白', '硬挺', '清脆', '模糊', '平坦', '硬滑', 0.245, 0.057, '坏瓜'],\n",
    "        # 12\n",
    "        ['浅白', '蜷缩', '浊响', '模糊', '平坦', '软粘', 0.343, 0.099, '坏瓜'],\n",
    "        # 13\n",
    "        ['青绿', '稍蜷', '浊响', '稍糊', '凹陷', '硬滑', 0.639, 0.161, '坏瓜'],\n",
    "        # 14\n",
    "        ['浅白', '稍蜷', '沉闷', '稍糊', '凹陷', '硬滑', 0.657, 0.198, '坏瓜'],\n",
    "        # 15\n",
    "        ['乌黑', '稍蜷', '浊响', '清晰', '稍凹', '软粘', 0.360, 0.370, '坏瓜'],\n",
    "        # 16\n",
    "        ['浅白', '蜷缩', '浊响', '模糊', '平坦', '硬滑', 0.593, 0.042, '坏瓜'],\n",
    "        # 17\n",
    "        ['青绿', '蜷缩', '沉闷', '稍糊', '稍凹', '硬滑', 0.719, 0.103, '坏瓜']\n",
    "    ]\n",
    "\n",
    "    # 特征值列表\n",
    "    labels = ['色泽', '根蒂', '敲击', '纹理', '脐部', '触感', '密度', '含糖率']\n"
   ]
  },
  {
   "cell_type": "code",
   "execution_count": 127,
   "metadata": {},
   "outputs": [
    {
     "name": "stdout",
     "output_type": "stream",
     "text": [
      "[[1]\n",
      " [1]\n",
      " [1]\n",
      " [1]\n",
      " [1]\n",
      " [1]\n",
      " [1]\n",
      " [1]\n",
      " [0]\n",
      " [0]\n",
      " [0]\n",
      " [0]\n",
      " [0]\n",
      " [0]\n",
      " [0]\n",
      " [0]\n",
      " [0]]\n"
     ]
    }
   ],
   "source": [
    "labelList = [] # 好瓜or坏瓜\n",
    "\n",
    "for row in dataSet:\n",
    "    labelList.append(row[-1])\n",
    "lb = preprocessing.LabelBinarizer()\n",
    "Y = lb.fit_transform(labelList)\n",
    "print(Y)"
   ]
  },
  {
   "cell_type": "code",
   "execution_count": 128,
   "metadata": {},
   "outputs": [
    {
     "name": "stdout",
     "output_type": "stream",
     "text": [
      "[1]\n",
      "1\n"
     ]
    }
   ],
   "source": [
    "print(Y[1])\n",
    "print(Y[1][0])"
   ]
  },
  {
   "cell_type": "code",
   "execution_count": 129,
   "metadata": {},
   "outputs": [],
   "source": [
    "# 计算信息熵\n",
    "# data: [1,2,4,5] 样本的序号\n",
    "def computeEnt(data):\n",
    "    num = 0\n",
    "    for i in data:\n",
    "        num += Y[i]\n",
    "    p = num/len(data)\n",
    "    if p == 0 or p == 1:\n",
    "        return 0\n",
    "    return -(p*np.log2(p)+(1-p)*np.log2(1-p))[0]"
   ]
  },
  {
   "cell_type": "code",
   "execution_count": 130,
   "metadata": {},
   "outputs": [],
   "source": [
    "# 计算信息增益\n",
    "# 在特征值是连续值时，如何减少计算量 http://blog.sina.com.cn/s/blog_68ffc7a40100urn3.html\n",
    "# data: [1,2,4,5] 样本的序号\n",
    "# attr: 类型:int，labels[attr]表示在此属性下计算信息增益\n",
    "# return: D, gain, divideData  \n",
    "# D:表示样本在该属性下取值的数量  [2,5,1]: 表示在该属性下共分为三类（离散属性值必为两类），每一类中分别由2个，5个，1个样本\n",
    "# gain： 信息增益\n",
    "# divideData: 只有离散值属性时返回，连续值返回为None， 返回值表示该属性下最优划分值\n",
    "def computeGainC45(data, attr):    \n",
    "    if(attr not in [6, 7]):# 离散值属性\n",
    "        ent = computeEnt(data)\n",
    "        group = {}\n",
    "        for i in data:\n",
    "            if dataSet[i][attr] not in group:\n",
    "                group[dataSet[i][attr]] = [i]\n",
    "            else:\n",
    "                group[dataSet[i][attr]].append(i)\n",
    "#     print(group) # {'沉闷': [1, 8], '浊响': [5, 6, 11, 15], '清脆': [10]}\n",
    "        D = []\n",
    "        for key in group:\n",
    "            D.append(len(group[key]))\n",
    "            ent -= len(group[key])/len(data)*computeEnt(group[key])\n",
    "        gain = ent\n",
    "        return D, gain, None\n",
    "#     print(ent)\n",
    "\n",
    "\n",
    "    else: # 连续值属性\n",
    "        tmp = [] # 临时数组\n",
    "        # 生成[[0,1],[1,3],[4,5]]的序列，每一个list第一个为该样本在此属性的取值，第二个元素为样本序号（用于判断其类别），最后按照属性取值顺序排列\n",
    "        for i in range(len(data)):\n",
    "            tmp.append([dataSet[data[i]][attr], data[i]])\n",
    "        tmp.sort() # 排序\n",
    "        gain = 0 \n",
    "        divideData = 0 # 储存候选划分值，以便找到最优划分值，然后再计算该属性的信息增益率\n",
    "        for i in range(len(data) - 1):\n",
    "            if(Y[tmp[i][1]] != Y[tmp[i+1][1]]):\n",
    "                divide = (tmp[i][0] + tmp[i+1][0])/2\n",
    "                p1, p2, n1, n2 = 0, 0, 0, 0 # 记录正例反例的数量用以计算信息增益，下标1表示在该属性下取值小于divideData, 下标2表示大于divideData\n",
    "                for d in data:\n",
    "                    if(dataSet[d][attr] < divide and Y[d] == [1]):\n",
    "                        p1 += 1\n",
    "                    elif(dataSet[d][attr] < divide and Y[d] == [0]):\n",
    "                        n1 += 1\n",
    "                    elif(dataSet[d][attr] > divide and Y[d] == [1]):\n",
    "                        p2 += 1\n",
    "                    elif(dataSet[d][attr] > divide and Y[d] == [0]):\n",
    "                        n2 += 1\n",
    "                D = [p1+n1, p2+n2]\n",
    "                if(n1 == 0 or p1 == 0):\n",
    "                    ent1 = 0\n",
    "                else:\n",
    "                    ent1 = -(p1+n1)/len(data)*(p1/(p1+n1)*np.log2(p1/(p1+n1))+n1/(p1+n1)*np.log2(n1/(p1+n1)))\n",
    "                if(n2 == 0 or p2 == 0):\n",
    "                    ent2 = 0\n",
    "                else:\n",
    "                    ent2 = -(p2+n2)/len(data)*(p2/(p2+n2)*np.log2(p2/(p2+n2))+n2/(p2+n2)*np.log2(n2/(p2+n2))) \n",
    "                ent = computeEnt(data) - ent1 - ent2\n",
    "                if(ent>gain):\n",
    "                    gain = ent\n",
    "                    divideData = divide\n",
    "        return D, gain, divideData\n",
    "\n",
    "# for i in range(8):\n",
    "#     print(computeGainC45([0, 1, 2, 3, 4, 5, 6, 7, 8, 9, 10, 11, 12, 13, 14, 15, 16],i))"
   ]
  },
  {
   "cell_type": "code",
   "execution_count": 131,
   "metadata": {},
   "outputs": [],
   "source": [
    "# 计算增益率\n",
    "# gain:信息增益\n",
    "# data, attr同上\n",
    "def computeGainRatio(D, gain):\n",
    "    IV = 0 # intrinsic value\n",
    "    for i in D:\n",
    "        IV -= i/sum(D)*np.log2(i/sum(D))\n",
    "    gainRatio = gain/IV    \n",
    "    return gainRatio"
   ]
  },
  {
   "cell_type": "markdown",
   "metadata": {},
   "source": [
    "### C4.5对取值数目较少的属性有偏好，所以我们并不直接选GainRatio最大的属性值，\n",
    "### 而是先从候选划分属性中找出Gain高于平均水平的属性，然后再从中选GainRatio最大的属性值。\n",
    "意思是先计算高水平的属性，再在这些属性里计算增益率\n",
    "可以避免gain ratio公式中 分母接近于0或者等于0 （若某属性下的样本全为同一类别，那么分母计算为0）"
   ]
  },
  {
   "cell_type": "code",
   "execution_count": 147,
   "metadata": {},
   "outputs": [],
   "source": [
    "# 找到最优划分属性\n",
    "# data 同上\n",
    "# attrList: [0,1,2,3,4] 代表候选属性\n",
    "# return gainList[0]: [gain, gainRatio, divideData, i]\n",
    "def chooseBestAttrC45(data, attrList):\n",
    "    gainList = [] # 记录每个属性的gain,gainRatio,divideData以及属性序号\n",
    "    gainSum = 0\n",
    "    for i in range(len(attrList)):\n",
    "        attr = attrList[i]\n",
    "        D, gain, divideData = computeGainC45(data, attr)\n",
    "        gainList.append([D, gain, divideData, i])\n",
    "        gainSum += gain\n",
    "    gainAvg = gainSum/len(attrList) # gain的平均水平\n",
    "    #先从候选划分属性中找出Gain高于平均水平的属性，然后再从中选GainRatio最大的属性值\n",
    "    for i in range(len(gainList)-1, -1, -1): # 倒序删除不会出错\n",
    "        if(gainList[i][1] < gainAvg):\n",
    "            del(gainList[i])\n",
    "    for i in range(len(gainList)):\n",
    "        gainRatio = computeGainRatio(gainList[i][0], gainList[i][1])\n",
    "        gainList[i][0] = gainList[i][1]\n",
    "        gainList[i][1] = gainRatio\n",
    "        \n",
    "    gainList = sorted(gainList, key = lambda x:x[1], reverse = True)\n",
    "    print(gainList)\n",
    "    return gainList[0]\n",
    "# chooseBestAttrC45([i for i in range(17)],[i for i in range(8)])"
   ]
  },
  {
   "cell_type": "code",
   "execution_count": 148,
   "metadata": {},
   "outputs": [
    {
     "data": {
      "text/plain": [
       "['色泽', '根蒂', '敲击', '纹理', '脐部', '触感', '密度', '含糖率']"
      ]
     },
     "execution_count": 148,
     "metadata": {},
     "output_type": "execute_result"
    }
   ],
   "source": [
    "labels"
   ]
  },
  {
   "cell_type": "code",
   "execution_count": 149,
   "metadata": {},
   "outputs": [],
   "source": [
    "# 选择最佳划分属性\n",
    "# data 同上\n",
    "# attrList: [0,1,2,3,4] 代表候选属性\n",
    "def generateTreeC45(data, attrList):\n",
    "    num = 0\n",
    "    for i in data:\n",
    "        num += Y[i][0]\n",
    "    if num == 0 or num == len(data):# 如果D中样本全为同一类别C，返回\n",
    "        return {'label':Y[data[0]][0], 'sampleNum':num if num != 0 else len(data)} # 标记为C类\n",
    "    \n",
    "    if attrList == []: # A空了却依然不能完整分类  （少了一个D中样本在A上取值相同的判断）\n",
    "        pos = num # 正例\n",
    "        neg = len(data) - num # 反例\n",
    "        return {'label':1,'sampleNum':[pos,neg]} if pos > neg else {'label':0,'sampleNum':[pos,neg]}\n",
    "        \n",
    "        \n",
    "        # 标记为D中分类最多的\n",
    "    \n",
    "    best = chooseBestAttrC45(data, attrList) # [gain, gainRatio, divideData, i]\n",
    "    C45Tree = {labels[best[3]]:{}} # 找到最优划分属性，对属性的每一个取值都再次寻找决策树\n",
    "#     print(labels[attrBest])\n",
    "    group = {}\n",
    "    if(best[2] == None): # 离散型属性\n",
    "        del(attrList[best[3]]) # 离散值属性则在子树中删除该属性，但是连续值属性不需要删除\n",
    "        for i in data: # 对data分割成： {'沉闷': [1, 8], '浊响': [5, 6, 11, 15], '清脆': [10]}\n",
    "            if dataSet[i][best[3]] not in group:\n",
    "                group[dataSet[i][best[3]]] = [i]\n",
    "            else:\n",
    "                group[dataSet[i][best[3]]].append(i)\n",
    "    else: # 连续型属性\n",
    "        group['小于'+str(best[2])] = []\n",
    "        group['大于'+str(best[2])] = []\n",
    "        for i in data:\n",
    "            if dataSet[i][best[3]] <= best[2]:\n",
    "                group['小于'+str(best[2])].append(i)\n",
    "            else:\n",
    "                group['大于'+str(best[2])].append(i)\n",
    "    \n",
    "    \n",
    "    for key in group:\n",
    "        C45Tree[labels[best[3]]][key] = generateTreeC45(group[key], attrList)\n",
    "    \n",
    "      \n",
    "    \n",
    "    return C45Tree\n",
    "        "
   ]
  },
  {
   "cell_type": "code",
   "execution_count": 150,
   "metadata": {},
   "outputs": [
    {
     "name": "stdout",
     "output_type": "stream",
     "text": [
      "[[0.2624392604045632, 0.8131172796431959, 0.3815, 6], [0.34929372233065203, 0.6684287745104068, 0.126, 7], [0.3805918973682686, 0.2630853587192754, None, 3], [0.289158782841679, 0.18672689918448795, None, 4]]\n",
      "[[0.2751070248348759, 0.7031605128092757, 0.5745, 6], [0.6612262562697893, 0.6640634993895833, 0.20450000000000002, 7], [0.6835719528431211, 0.5275542262943093, None, 3]]\n",
      "[[0.9910760598382222, 1.0, 0.231, 7], [0.9910760598382222, 0.7119046340726976, None, 3]]\n"
     ]
    }
   ],
   "source": [
    "C45 = generateTreeC45([i for i in range(17)], [i for i in range(8)])"
   ]
  },
  {
   "cell_type": "code",
   "execution_count": 146,
   "metadata": {},
   "outputs": [
    {
     "name": "stdout",
     "output_type": "stream",
     "text": [
      "{'密度': {'小于0.3815': {'label': 0, 'sampleNum': 4}, '大于0.3815': {'密度': {'小于0.5745': {'label': 1, 'sampleNum': 4}, '大于0.5745': {'含糖率': {'小于0.231': {'label': 0, 'sampleNum': 5}, '大于0.231': {'label': 1, 'sampleNum': 4}}}}}}}\n"
     ]
    }
   ],
   "source": [
    "print(C45)"
   ]
  },
  {
   "cell_type": "code",
   "execution_count": null,
   "metadata": {},
   "outputs": [],
   "source": []
  }
 ],
 "metadata": {
  "kernelspec": {
   "display_name": "Python 3",
   "language": "python",
   "name": "python3"
  },
  "language_info": {
   "codemirror_mode": {
    "name": "ipython",
    "version": 3
   },
   "file_extension": ".py",
   "mimetype": "text/x-python",
   "name": "python",
   "nbconvert_exporter": "python",
   "pygments_lexer": "ipython3",
   "version": "3.6.8"
  }
 },
 "nbformat": 4,
 "nbformat_minor": 2
}
