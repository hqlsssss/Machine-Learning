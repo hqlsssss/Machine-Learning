{
 "cells": [
  {
   "cell_type": "code",
   "execution_count": 1,
   "metadata": {},
   "outputs": [],
   "source": [
    "#https://www.cnblogs.com/hhxz/p/10626419.html\n",
    "from sklearn.feature_extraction import DictVectorizer#转换工具，将list转换成为一个数组\n",
    "from sklearn import preprocessing\n",
    "from sklearn import tree #创建决策树\n",
    "import numpy as np"
   ]
  },
  {
   "cell_type": "code",
   "execution_count": 2,
   "metadata": {},
   "outputs": [],
   "source": [
    "# dataset: https://blog.csdn.net/leafage_m/article/details/79560791\n",
    "\n",
    "dataSet = [\n",
    "        # 1\n",
    "        ['青绿', '蜷缩', '浊响', '清晰', '凹陷', '硬滑', '好瓜'],\n",
    "        # 2\n",
    "        ['乌黑', '蜷缩', '沉闷', '清晰', '凹陷', '硬滑', '好瓜'],\n",
    "        # 3\n",
    "        ['乌黑', '蜷缩', '浊响', '清晰', '凹陷', '硬滑', '好瓜'],\n",
    "        # 4\n",
    "        ['青绿', '蜷缩', '沉闷', '清晰', '凹陷', '硬滑', '好瓜'],\n",
    "        # 5\n",
    "        ['浅白', '蜷缩', '浊响', '清晰', '凹陷', '硬滑', '好瓜'],\n",
    "        # 6\n",
    "        ['青绿', '稍蜷', '浊响', '清晰', '稍凹', '软粘', '好瓜'],\n",
    "        # 7\n",
    "        ['乌黑', '稍蜷', '浊响', '稍糊', '稍凹', '软粘', '好瓜'],\n",
    "        # 8\n",
    "        ['乌黑', '稍蜷', '浊响', '清晰', '稍凹', '硬滑', '好瓜'],\n",
    "\n",
    "        # ----------------------------------------------------\n",
    "        # 9\n",
    "        ['乌黑', '稍蜷', '沉闷', '稍糊', '稍凹', '硬滑', '坏瓜'],\n",
    "        # 10\n",
    "        ['青绿', '硬挺', '清脆', '清晰', '平坦', '软粘', '坏瓜'],\n",
    "        # 11\n",
    "        ['浅白', '硬挺', '清脆', '模糊', '平坦', '硬滑', '坏瓜'],\n",
    "        # 12\n",
    "        ['浅白', '蜷缩', '浊响', '模糊', '平坦', '软粘', '坏瓜'],\n",
    "        # 13\n",
    "        ['青绿', '稍蜷', '浊响', '稍糊', '凹陷', '硬滑', '坏瓜'],\n",
    "        # 14\n",
    "        ['浅白', '稍蜷', '沉闷', '稍糊', '凹陷', '硬滑', '坏瓜'],\n",
    "        # 15\n",
    "        ['乌黑', '稍蜷', '浊响', '清晰', '稍凹', '软粘', '坏瓜'],\n",
    "        # 16\n",
    "        ['浅白', '蜷缩', '浊响', '模糊', '平坦', '硬滑', '坏瓜'],\n",
    "        # 17\n",
    "        ['青绿', '蜷缩', '沉闷', '稍糊', '稍凹', '硬滑', '坏瓜']\n",
    "    ]\n",
    "labels = ['色泽', '根蒂', '敲击', '纹理', '脐部', '触感']"
   ]
  },
  {
   "cell_type": "code",
   "execution_count": 3,
   "metadata": {},
   "outputs": [],
   "source": [
    "labelList = [] # 好瓜or坏瓜\n",
    "featureList = [] # 对每只瓜记录具体的特征和特征值\n",
    "\n",
    "for row in dataSet:\n",
    "    labelList.append(row[-1])\n",
    "    feature = {}\n",
    "    for i in range(len(row)-1):\n",
    "        feature[labels[i]] = row[i]\n",
    "    featureList.append(feature)"
   ]
  },
  {
   "cell_type": "code",
   "execution_count": 16,
   "metadata": {},
   "outputs": [
    {
     "data": {
      "text/plain": [
       "[{'色泽': '青绿', '根蒂': '蜷缩', '敲击': '浊响', '纹理': '清晰', '脐部': '凹陷', '触感': '硬滑'},\n",
       " {'色泽': '乌黑', '根蒂': '蜷缩', '敲击': '沉闷', '纹理': '清晰', '脐部': '凹陷', '触感': '硬滑'},\n",
       " {'色泽': '乌黑', '根蒂': '蜷缩', '敲击': '浊响', '纹理': '清晰', '脐部': '凹陷', '触感': '硬滑'},\n",
       " {'色泽': '青绿', '根蒂': '蜷缩', '敲击': '沉闷', '纹理': '清晰', '脐部': '凹陷', '触感': '硬滑'},\n",
       " {'色泽': '浅白', '根蒂': '蜷缩', '敲击': '浊响', '纹理': '清晰', '脐部': '凹陷', '触感': '硬滑'},\n",
       " {'色泽': '青绿', '根蒂': '稍蜷', '敲击': '浊响', '纹理': '清晰', '脐部': '稍凹', '触感': '软粘'},\n",
       " {'色泽': '乌黑', '根蒂': '稍蜷', '敲击': '浊响', '纹理': '稍糊', '脐部': '稍凹', '触感': '软粘'},\n",
       " {'色泽': '乌黑', '根蒂': '稍蜷', '敲击': '浊响', '纹理': '清晰', '脐部': '稍凹', '触感': '硬滑'},\n",
       " {'色泽': '乌黑', '根蒂': '稍蜷', '敲击': '沉闷', '纹理': '稍糊', '脐部': '稍凹', '触感': '硬滑'},\n",
       " {'色泽': '青绿', '根蒂': '硬挺', '敲击': '清脆', '纹理': '清晰', '脐部': '平坦', '触感': '软粘'},\n",
       " {'色泽': '浅白', '根蒂': '硬挺', '敲击': '清脆', '纹理': '模糊', '脐部': '平坦', '触感': '硬滑'},\n",
       " {'色泽': '浅白', '根蒂': '蜷缩', '敲击': '浊响', '纹理': '模糊', '脐部': '平坦', '触感': '软粘'},\n",
       " {'色泽': '青绿', '根蒂': '稍蜷', '敲击': '浊响', '纹理': '稍糊', '脐部': '凹陷', '触感': '硬滑'},\n",
       " {'色泽': '浅白', '根蒂': '稍蜷', '敲击': '沉闷', '纹理': '稍糊', '脐部': '凹陷', '触感': '硬滑'},\n",
       " {'色泽': '乌黑', '根蒂': '稍蜷', '敲击': '浊响', '纹理': '清晰', '脐部': '稍凹', '触感': '软粘'},\n",
       " {'色泽': '浅白', '根蒂': '蜷缩', '敲击': '浊响', '纹理': '模糊', '脐部': '平坦', '触感': '硬滑'},\n",
       " {'色泽': '青绿', '根蒂': '蜷缩', '敲击': '沉闷', '纹理': '稍糊', '脐部': '稍凹', '触感': '硬滑'}]"
      ]
     },
     "execution_count": 16,
     "metadata": {},
     "output_type": "execute_result"
    }
   ],
   "source": [
    "featureList\n"
   ]
  },
  {
   "cell_type": "code",
   "execution_count": 5,
   "metadata": {},
   "outputs": [
    {
     "name": "stdout",
     "output_type": "stream",
     "text": [
      "[[0. 1. 0. 0. 0. 1. 0. 1. 0. 1. 0. 0. 0. 0. 1. 1. 0.]\n",
      " [1. 0. 0. 0. 0. 1. 0. 1. 0. 1. 0. 0. 1. 0. 0. 1. 0.]\n",
      " [0. 1. 0. 0. 0. 1. 0. 1. 0. 1. 0. 0. 1. 0. 0. 1. 0.]\n",
      " [1. 0. 0. 0. 0. 1. 0. 1. 0. 1. 0. 0. 0. 0. 1. 1. 0.]\n",
      " [0. 1. 0. 0. 0. 1. 0. 1. 0. 1. 0. 0. 0. 1. 0. 1. 0.]\n",
      " [0. 1. 0. 0. 1. 0. 0. 1. 0. 0. 0. 1. 0. 0. 1. 0. 1.]\n",
      " [0. 1. 0. 0. 1. 0. 0. 0. 1. 0. 0. 1. 1. 0. 0. 0. 1.]\n",
      " [0. 1. 0. 0. 1. 0. 0. 1. 0. 0. 0. 1. 1. 0. 0. 1. 0.]\n",
      " [1. 0. 0. 0. 1. 0. 0. 0. 1. 0. 0. 1. 1. 0. 0. 1. 0.]\n",
      " [0. 0. 1. 1. 0. 0. 0. 1. 0. 0. 1. 0. 0. 0. 1. 0. 1.]\n",
      " [0. 0. 1. 1. 0. 0. 1. 0. 0. 0. 1. 0. 0. 1. 0. 1. 0.]\n",
      " [0. 1. 0. 0. 0. 1. 1. 0. 0. 0. 1. 0. 0. 1. 0. 0. 1.]\n",
      " [0. 1. 0. 0. 1. 0. 0. 0. 1. 1. 0. 0. 0. 0. 1. 1. 0.]\n",
      " [1. 0. 0. 0. 1. 0. 0. 0. 1. 1. 0. 0. 0. 1. 0. 1. 0.]\n",
      " [0. 1. 0. 0. 1. 0. 0. 1. 0. 0. 0. 1. 1. 0. 0. 0. 1.]\n",
      " [0. 1. 0. 0. 0. 1. 1. 0. 0. 0. 1. 0. 0. 1. 0. 1. 0.]\n",
      " [1. 0. 0. 0. 0. 1. 0. 0. 1. 0. 0. 1. 0. 0. 1. 1. 0.]]\n",
      "['敲击=沉闷', '敲击=浊响', '敲击=清脆', '根蒂=硬挺', '根蒂=稍蜷', '根蒂=蜷缩', '纹理=模糊', '纹理=清晰', '纹理=稍糊', '脐部=凹陷', '脐部=平坦', '脐部=稍凹', '色泽=乌黑', '色泽=浅白', '色泽=青绿', '触感=硬滑', '触感=软粘']\n"
     ]
    }
   ],
   "source": [
    "#onehot 编码： https://www.cnblogs.com/ljhdo/archive/2019/07/30/10600702.html\n",
    "# DictVectorizer()\n",
    "vec = DictVectorizer()#获取转换对象\n",
    "X = vec.fit_transform(featureList).toarray()#将特征值的list转变成为一个数组\n",
    "print(X)\n",
    "print(vec.get_feature_names())#获取特征所有的取值"
   ]
  },
  {
   "cell_type": "code",
   "execution_count": 6,
   "metadata": {},
   "outputs": [
    {
     "name": "stdout",
     "output_type": "stream",
     "text": [
      "[[1]\n",
      " [1]\n",
      " [1]\n",
      " [1]\n",
      " [1]\n",
      " [1]\n",
      " [1]\n",
      " [1]\n",
      " [0]\n",
      " [0]\n",
      " [0]\n",
      " [0]\n",
      " [0]\n",
      " [0]\n",
      " [0]\n",
      " [0]\n",
      " [0]]\n"
     ]
    }
   ],
   "source": [
    "lb = preprocessing.LabelBinarizer()\n",
    "Y = lb.fit_transform(labelList)\n",
    "print(Y)"
   ]
  },
  {
   "cell_type": "code",
   "execution_count": 7,
   "metadata": {},
   "outputs": [
    {
     "name": "stdout",
     "output_type": "stream",
     "text": [
      "DecisionTreeClassifier(class_weight=None, criterion='entropy', max_depth=None,\n",
      "            max_features=None, max_leaf_nodes=None,\n",
      "            min_impurity_decrease=0.0, min_impurity_split=None,\n",
      "            min_samples_leaf=1, min_samples_split=2,\n",
      "            min_weight_fraction_leaf=0.0, presort=False, random_state=None,\n",
      "            splitter='best')\n"
     ]
    }
   ],
   "source": [
    "#sklearn实现\n",
    "#sklearn.tree.DecisionTreeClassifier 详细说明: https://www.cnblogs.com/hgz-dm/p/10886368.html\n",
    "clf = tree.DecisionTreeClassifier(criterion= \"entropy\")#使用Id3\n",
    "clf = clf.fit(X,Y)\n",
    "print(clf)\n",
    "with open(\"C:/Users/22197/Desktop/tree.dot\",\"w\") as f:\n",
    "        f = tree.export_graphviz(clf,feature_names = vec.get_feature_names(),out_file= f)#使用export_graphviz"
   ]
  },
  {
   "cell_type": "code",
   "execution_count": 12,
   "metadata": {},
   "outputs": [
    {
     "data": {
      "text/plain": [
       "'C:/Users/22197/Desktop\\\\tree.pdf'"
      ]
     },
     "execution_count": 12,
     "metadata": {},
     "output_type": "execute_result"
    }
   ],
   "source": [
    "import graphviz #导入决策树可视化模块\n",
    "dot_data = tree.export_graphviz(clf, out_file=None) #以DOT格式导出决策树\n",
    "graph = graphviz.Source(dot_data)\n",
    "graph.render(r'C:/Users/22197/Desktop/tree')\n"
   ]
  },
  {
   "cell_type": "code",
   "execution_count": 40,
   "metadata": {},
   "outputs": [],
   "source": [
    "#以下是自己实现\n",
    "#只适用于二分类\n",
    "#只适用于二分类\n",
    "#只适用于二分类\n",
    "#只适用于二分类\n",
    "#只适用于二分类\n",
    "#只适用于二分类"
   ]
  },
  {
   "cell_type": "code",
   "execution_count": 35,
   "metadata": {},
   "outputs": [
    {
     "data": {
      "text/plain": [
       "['色泽', '根蒂', '敲击', '纹理', '脐部', '触感']"
      ]
     },
     "execution_count": 35,
     "metadata": {},
     "output_type": "execute_result"
    }
   ],
   "source": [
    "labels"
   ]
  },
  {
   "cell_type": "code",
   "execution_count": 36,
   "metadata": {},
   "outputs": [
    {
     "data": {
      "text/plain": [
       "[['青绿', '蜷缩', '浊响', '清晰', '凹陷', '硬滑', '好瓜'],\n",
       " ['乌黑', '蜷缩', '沉闷', '清晰', '凹陷', '硬滑', '好瓜'],\n",
       " ['乌黑', '蜷缩', '浊响', '清晰', '凹陷', '硬滑', '好瓜'],\n",
       " ['青绿', '蜷缩', '沉闷', '清晰', '凹陷', '硬滑', '好瓜'],\n",
       " ['浅白', '蜷缩', '浊响', '清晰', '凹陷', '硬滑', '好瓜'],\n",
       " ['青绿', '稍蜷', '浊响', '清晰', '稍凹', '软粘', '好瓜'],\n",
       " ['乌黑', '稍蜷', '浊响', '稍糊', '稍凹', '软粘', '好瓜'],\n",
       " ['乌黑', '稍蜷', '浊响', '清晰', '稍凹', '硬滑', '好瓜'],\n",
       " ['乌黑', '稍蜷', '沉闷', '稍糊', '稍凹', '硬滑', '坏瓜'],\n",
       " ['青绿', '硬挺', '清脆', '清晰', '平坦', '软粘', '坏瓜'],\n",
       " ['浅白', '硬挺', '清脆', '模糊', '平坦', '硬滑', '坏瓜'],\n",
       " ['浅白', '蜷缩', '浊响', '模糊', '平坦', '软粘', '坏瓜'],\n",
       " ['青绿', '稍蜷', '浊响', '稍糊', '凹陷', '硬滑', '坏瓜'],\n",
       " ['浅白', '稍蜷', '沉闷', '稍糊', '凹陷', '硬滑', '坏瓜'],\n",
       " ['乌黑', '稍蜷', '浊响', '清晰', '稍凹', '软粘', '坏瓜'],\n",
       " ['浅白', '蜷缩', '浊响', '模糊', '平坦', '硬滑', '坏瓜'],\n",
       " ['青绿', '蜷缩', '沉闷', '稍糊', '稍凹', '硬滑', '坏瓜']]"
      ]
     },
     "execution_count": 36,
     "metadata": {},
     "output_type": "execute_result"
    }
   ],
   "source": [
    "dataSet"
   ]
  },
  {
   "cell_type": "code",
   "execution_count": 68,
   "metadata": {},
   "outputs": [],
   "source": [
    "# 计算信息熵\n",
    "# data: [1,2,4,5] 样本的序号\n",
    "def computeEnt(data):\n",
    "    num = 0\n",
    "    for i in data:\n",
    "        num += Y[i]\n",
    "    p = num/len(data)\n",
    "    if p == 0 or p == 1:\n",
    "        return 0\n",
    "    return -(p*np.log2(p)+(1-p)*np.log2(1-p))\n",
    "    "
   ]
  },
  {
   "cell_type": "code",
   "execution_count": 69,
   "metadata": {},
   "outputs": [
    {
     "data": {
      "text/plain": [
       "['色泽', '根蒂', '敲击', '纹理', '脐部', '触感']"
      ]
     },
     "execution_count": 69,
     "metadata": {},
     "output_type": "execute_result"
    }
   ],
   "source": [
    "labels"
   ]
  },
  {
   "cell_type": "code",
   "execution_count": 91,
   "metadata": {},
   "outputs": [],
   "source": [
    "# # 计算信息增益\n",
    "# data: [1,2,4,5] 样本的序号\n",
    "# attr: 类型:int，labels[attr]表示在此属性下计算信息增益\n",
    "def computeGain(data, attr):\n",
    "    ent = computeEnt(data)\n",
    "    group = {}\n",
    "    for i in data:\n",
    "        if dataSet[i][attr] not in group:\n",
    "            group[dataSet[i][attr]] = [i]\n",
    "        else:\n",
    "            group[dataSet[i][attr]].append(i)\n",
    "#     print(group) # {'沉闷': [1, 8], '浊响': [5, 6, 11, 15], '清脆': [10]}\n",
    "    \n",
    "    for key in group:\n",
    "        ent -= len(group[key])/len(data)*computeEnt(group[key])\n",
    "#     print(ent)\n",
    "    return ent\n",
    "# for i in range(6):\n",
    "#     computeGain([0, 1, 2, 3, 4, 5, 6, 7, 8, 9, 10, 11, 12, 13, 14, 15, 16],1)"
   ]
  },
  {
   "cell_type": "code",
   "execution_count": null,
   "metadata": {},
   "outputs": [],
   "source": [
    "import copy\n",
    "# 用于labels的浅拷贝\n",
    "# b=copy.copy(a)"
   ]
  },
  {
   "cell_type": "code",
   "execution_count": 141,
   "metadata": {},
   "outputs": [
    {
     "data": {
      "text/plain": [
       "(3, [0, 1, 2, 4, 5])"
      ]
     },
     "execution_count": 141,
     "metadata": {},
     "output_type": "execute_result"
    }
   ],
   "source": [
    "# 选择最佳划分属性\n",
    "# data 同上\n",
    "# attrList: [0,1,2,3,4] 代表候选属性\n",
    "def chooseBestAttr(data, attrList):\n",
    "    attrBest = -1 # 记录最佳属性\n",
    "    entBest = -1 # 记录最大信息增益\n",
    "    for i in range(len(attrList)):\n",
    "        ent = computeGain(data, attrList[i])\n",
    "        if ent > entBest:\n",
    "            entBest = ent\n",
    "            attrBest = attrList[i]\n",
    "#     print(attrBest, entBest)\n",
    "    #经过该节点后返回剩余侯选属性以及数据\n",
    "    attrList.remove(attrBest)\n",
    "    return attrBest, attrList\n",
    "\n",
    "chooseBestAttr([i for i in range(17)],[i for i in range(6)])"
   ]
  },
  {
   "cell_type": "code",
   "execution_count": 150,
   "metadata": {},
   "outputs": [],
   "source": [
    "# 选择最佳划分属性\n",
    "# data 同上\n",
    "# attrList: [0,1,2,3,4] 代表候选属性\n",
    "def generateTreeID3(data, attrList):\n",
    "    num = 0\n",
    "    for i in data:\n",
    "        num += Y[i][0]\n",
    "    if num == 0 or num == len(data):# 如果D中样本全为同一类别C，返回\n",
    "        return {'label':Y[data[0]][0], 'sampleNum':num if num != 0 else len(data)} # 标记为C类\n",
    "    \n",
    "    if attrList == []: # A空了却依然不能完整分类  （少了一个D中样本在A上取值相同的判断）\n",
    "        pos = num # 正例\n",
    "        neg = len(data) - num # 反例\n",
    "        return {'label':1,'sampleNum':[pos,neg]} if pos > neg else {'label':0,'sampleNum':[pos,neg]}\n",
    "        \n",
    "        \n",
    "        # 标记为D中分类最多的\n",
    "    \n",
    "    attrBest, attrListNew = chooseBestAttr(data, attrList)\n",
    "    ID3Tree = {labels[attrBest]:{}} # 找到最优划分属性，对属性的每一个取值都再次寻找决策树\n",
    "#     print(labels[attrBest])\n",
    "    group = {}\n",
    "    for i in data: # 对data分割成： {'沉闷': [1, 8], '浊响': [5, 6, 11, 15], '清脆': [10]}\n",
    "        if dataSet[i][attrBest] not in group:\n",
    "            group[dataSet[i][attrBest]] = [i]\n",
    "        else:\n",
    "            group[dataSet[i][attrBest]].append(i)\n",
    "    \n",
    "    for key in group:\n",
    "        ID3Tree[labels[attrBest]][key] = generateTreeID3(group[key], attrListNew)\n",
    "        \n",
    "    \n",
    "    return ID3Tree\n",
    "        "
   ]
  },
  {
   "cell_type": "code",
   "execution_count": 151,
   "metadata": {},
   "outputs": [],
   "source": [
    "ID3 = generateTreeID3([i for i in range(17)], [i for i in range(6)])"
   ]
  },
  {
   "cell_type": "code",
   "execution_count": 152,
   "metadata": {},
   "outputs": [
    {
     "name": "stdout",
     "output_type": "stream",
     "text": [
      "{'纹理': {'清晰': {'根蒂': {'蜷缩': {'label': 1, 'sampleNum': 5}, '稍蜷': {'色泽': {'青绿': {'label': 1, 'sampleNum': 1}, '乌黑': {'触感': {'硬滑': {'label': 1, 'sampleNum': 1}, '软粘': {'label': 0, 'sampleNum': 1}}}}}, '硬挺': {'label': 0, 'sampleNum': 1}}}, '稍糊': {'敲击': {'浊响': {'脐部': {'稍凹': {'label': 1, 'sampleNum': 1}, '凹陷': {'label': 0, 'sampleNum': 1}}}, '沉闷': {'label': 0, 'sampleNum': 3}}}, '模糊': {'label': 0, 'sampleNum': 3}}}\n"
     ]
    }
   ],
   "source": [
    "print(ID3)"
   ]
  },
  {
   "cell_type": "markdown",
   "metadata": {},
   "source": [
    "## 尚未解决\n",
    "1.部分函数尚不熟悉 \n",
    "2.只能适用于2分类\n",
    "3.只实现了ID3\n",
    "4.如果数据预处理用到了one-hot，那么之后如何判断两个样本之间在某个属性上取值是否相同\n",
    "5.用graphviz对决策树进行绘制  # https://www.jianshu.com/p/2e71649df8c4\n"
   ]
  }
 ],
 "metadata": {
  "kernelspec": {
   "display_name": "Python 3",
   "language": "python",
   "name": "python3"
  },
  "language_info": {
   "codemirror_mode": {
    "name": "ipython",
    "version": 3
   },
   "file_extension": ".py",
   "mimetype": "text/x-python",
   "name": "python",
   "nbconvert_exporter": "python",
   "pygments_lexer": "ipython3",
   "version": "3.6.8"
  }
 },
 "nbformat": 4,
 "nbformat_minor": 2
}
